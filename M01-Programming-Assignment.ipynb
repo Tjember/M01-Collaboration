{
 "cells": [
  {
   "cell_type": "code",
   "execution_count": null,
   "id": "698325ed",
   "metadata": {},
   "outputs": [],
   "source": [
    "seconds_in_an_hour = 60 * 60\n",
    "print(seconds_in_an_hour)"
   ]
  },
  {
   "cell_type": "code",
   "execution_count": null,
   "id": "01dc2c23",
   "metadata": {},
   "outputs": [],
   "source": [
    "seconds_per_hour = seconds_in_an_hour\n",
    "print(seconds_per_hour)"
   ]
  },
  {
   "cell_type": "code",
   "execution_count": null,
   "id": "148d0833",
   "metadata": {},
   "outputs": [],
   "source": [
    "seconds_in_a_day = seconds_per_hour * 24\n",
    "print(seconds_in_a_day)"
   ]
  },
  {
   "cell_type": "code",
   "execution_count": null,
   "id": "fae16c5f",
   "metadata": {},
   "outputs": [],
   "source": [
    "seconds_per_day = seconds_in_an_hour * 24\n",
    "print(seconds_per_day)"
   ]
  },
  {
   "cell_type": "code",
   "execution_count": null,
   "id": "f93628de",
   "metadata": {},
   "outputs": [],
   "source": [
    "floating_point_result = seconds_per_day / seconds_per_hour\n",
    "print(floating_point_result)"
   ]
  },
  {
   "cell_type": "code",
   "execution_count": null,
   "id": "4c5b520c",
   "metadata": {},
   "outputs": [],
   "source": [
    "integer_result = seconds_per_day // seconds_per_hour\n",
    "print(integer_result)"
   ]
  }
 ],
 "metadata": {
  "kernelspec": {
   "display_name": "Python 3 (ipykernel)",
   "language": "python",
   "name": "python3"
  },
  "language_info": {
   "codemirror_mode": {
    "name": "ipython",
    "version": 3
   },
   "file_extension": ".py",
   "mimetype": "text/x-python",
   "name": "python",
   "nbconvert_exporter": "python",
   "pygments_lexer": "ipython3",
   "version": "3.11.5"
  }
 },
 "nbformat": 4,
 "nbformat_minor": 5
}
