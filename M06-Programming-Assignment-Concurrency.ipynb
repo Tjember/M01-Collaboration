{
 "cells": [
  {
   "cell_type": "code",
   "execution_count": null,
   "id": "051e25a2",
   "metadata": {},
   "outputs": [],
   "source": [
    "# Tadelo Jember Programming\n",
    "# M06 Programming Assignment -Concurrency in Python\n",
    "# things to do exercises\n",
    "# 13.1 13.1 Write the current date as a string to the text file today.txt\n",
    "\n",
    "from datetime import datetime\n",
    "current_date = datetime.now().strftime('%Y-%m-%d')\n",
    "with open('today.txt', 'w') as file:\n",
    "    file.write(current_date)\n",
    "    \n",
    "# 13.2 Read the text file today.txt into the string today_string\n",
    "with open('today.txt', 'r') as file:\n",
    "    today_string = file.read()\n",
    "print(today_string)\n",
    "\n",
    "13.3 Parse the date from today_string\n",
    "from datetime import datetime\n",
    "parsed_date = datetime.strptime(today_string, '%Y-%m-%d')\n",
    "print(parsed_date)  # Just to verify the parsed date\n"
   ]
  },
  {
   "cell_type": "code",
   "execution_count": null,
   "id": "e228b887",
   "metadata": {},
   "outputs": [],
   "source": [
    "# exercise 15.1\n",
    "import multiprocessing\n",
    "import random\n",
    "import time\n",
    "from datetime import datetime\n",
    "\n",
    "def print_current_time():\n",
    "    delay = random.random()\n",
    "    time.sleep(delay)\n",
    "\n",
    "    current_time = datetime.now().strftime('%Y-%m-%d %H:%M:%S')\n",
    "    print(f\"Process {multiprocessing.current_process().pid} - Current Time: {current_time}\")\n",
    "\n",
    "processes = []\n",
    "for _ in range(3):\n",
    "    process = multiprocessing.Process(target=print_current_time)\n",
    "    processes.append(process)\n",
    "    process.start()\n",
    "\n",
    "for process in processes:\n",
    "    process.join()\n"
   ]
  }
 ],
 "metadata": {
  "kernelspec": {
   "display_name": "Python 3 (ipykernel)",
   "language": "python",
   "name": "python3"
  },
  "language_info": {
   "codemirror_mode": {
    "name": "ipython",
    "version": 3
   },
   "file_extension": ".py",
   "mimetype": "text/x-python",
   "name": "python",
   "nbconvert_exporter": "python",
   "pygments_lexer": "ipython3",
   "version": "3.11.5"
  }
 },
 "nbformat": 4,
 "nbformat_minor": 5
}
