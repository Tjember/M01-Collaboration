{
 "cells": [
  {
   "cell_type": "code",
   "execution_count": 1,
   "id": "15e04a70",
   "metadata": {},
   "outputs": [
    {
     "name": "stdout",
     "output_type": "stream",
     "text": [
      "too low\n"
     ]
    }
   ],
   "source": [
    "# Assign values to the variables secret and guess\n",
    "secret = 7  # You can choose any number between 1 and 10\n",
    "guess = 4   # You can choose any number between 1 and 10\n",
    "\n",
    "# Conditional statements to check if the guess is too low, too high, or just right\n",
    "if guess < secret:\n",
    "    print('too low')\n",
    "elif guess > secret:\n",
    "    print('too high')\n",
    "else:\n",
    "    print('just right')"
   ]
  },
  {
   "cell_type": "code",
   "execution_count": 9,
   "id": "e126a470",
   "metadata": {},
   "outputs": [
    {
     "name": "stdout",
     "output_type": "stream",
     "text": [
      "It matches a cherry\n"
     ]
    }
   ],
   "source": [
    "    \n",
    "# Assign values to the variables small and green\n",
    "small = True\n",
    "green = False\n",
    "\n",
    "# Use if/else statements to match the choices\n",
    "if small and green:\n",
    "    print('It matches a pea')\n",
    "elif small and not green:\n",
    "    print('It matches a cherry')\n",
    "elif not small and green:\n",
    "    print('It matches a watermelon')\n",
    "else:\n",
    "    print('It matches a pumpkin') "
   ]
  },
  {
   "cell_type": "code",
   "execution_count": 3,
   "id": "a6f517bf",
   "metadata": {},
   "outputs": [
    {
     "name": "stdout",
     "output_type": "stream",
     "text": [
      "3\n",
      "2\n",
      "1\n",
      "0\n"
     ]
    }
   ],
   "source": [
    "# chapter 6 Use a for loop to print the values of the list \n",
    "my_list = [3, 2, 1, 0]\n",
    "for value in my_list:\n",
    "    print(value)"
   ]
  },
  {
   "cell_type": "code",
   "execution_count": 4,
   "id": "bb06f9b3",
   "metadata": {},
   "outputs": [
    {
     "name": "stdout",
     "output_type": "stream",
     "text": [
      "too low\n",
      "too low\n",
      "too low\n",
      "too low\n",
      "too low\n",
      "too low\n",
      "found it!\n"
     ]
    }
   ],
   "source": [
    "# chapter 6 excercise Write a while loop to compare number with guess_me\n",
    "guess_me = 7\n",
    "number = 1\n",
    "while number <= guess_me:\n",
    "    if number < guess_me:\n",
    "        print('too low')\n",
    "    elif number == guess_me:\n",
    "        print('found it!')\n",
    "        break\n",
    "    else:\n",
    "        print('oops')\n",
    "        break\n",
    "    number += 1"
   ]
  },
  {
   "cell_type": "code",
   "execution_count": 7,
   "id": "ca44487d",
   "metadata": {},
   "outputs": [
    {
     "name": "stdout",
     "output_type": "stream",
     "text": [
      "too low\n",
      "too low\n",
      "too low\n",
      "too low\n",
      "too low\n",
      "found it!\n"
     ]
    }
   ],
   "source": [
    "# chapter 6 excercise Use a for loop to iterate a variable called number over range(10)\n",
    "\n",
    "guess_me = 5\n",
    "for number in range(10):\n",
    "    if number < guess_me:\n",
    "        print('too low')\n",
    "    elif number == guess_me:\n",
    "        print('found it!')\n",
    "        break\n",
    "    else:\n",
    "        print('oops')"
   ]
  },
  {
   "cell_type": "code",
   "execution_count": null,
   "id": "304add63",
   "metadata": {},
   "outputs": [],
   "source": []
  }
 ],
 "metadata": {
  "kernelspec": {
   "display_name": "Python 3 (ipykernel)",
   "language": "python",
   "name": "python3"
  },
  "language_info": {
   "codemirror_mode": {
    "name": "ipython",
    "version": 3
   },
   "file_extension": ".py",
   "mimetype": "text/x-python",
   "name": "python",
   "nbconvert_exporter": "python",
   "pygments_lexer": "ipython3",
   "version": "3.11.5"
  }
 },
 "nbformat": 4,
 "nbformat_minor": 5
}
