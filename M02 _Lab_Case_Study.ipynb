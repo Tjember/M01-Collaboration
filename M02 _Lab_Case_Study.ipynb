{
 "cells": [
  {
   "cell_type": "code",
   "execution_count": 2,
   "id": "dfb3836c",
   "metadata": {},
   "outputs": [
    {
     "name": "stdout",
     "output_type": "stream",
     "text": [
      "Enter student's last name (type 'ZZZ' to quit): Astuna\n",
      "Enter student's first name: Bikilla\n",
      "Enter student's GPA: 3.76\n",
      "Enter student's last name (type 'ZZZ' to quit): Wizarto\n",
      "Enter student's first name: Abebe\n",
      "Enter student's GPA: 3.26\n",
      "Enter student's last name (type 'ZZZ' to quit): Tadelo\n",
      "Enter student's first name: Jember\n",
      "Enter student's GPA: 3.95\n",
      "Enter student's last name (type 'ZZZ' to quit): John\n",
      "Enter student's first name: Natan\n",
      "Enter student's GPA: 3.12\n",
      "Enter student's last name (type 'ZZZ' to quit): Timotiyos\n",
      "Enter student's first name: Sokratus\n",
      "Enter student's GPA: 3.67\n",
      "Enter student's last name (type 'ZZZ' to quit): ZZZ\n",
      "Bikilla Astuna has made the Dean's List.\n",
      "Abebe Wizarto has made the Honor Roll.\n",
      "Jember Tadelo has made the Dean's List.\n",
      "Natan John does not qualify for any honors.\n",
      "Sokratus Timotiyos has made the Dean's List.\n",
      "Program completed.\n"
     ]
    }
   ],
   "source": [
    "# Student Qualification App\n",
    "# Author: Tadelo Jember\n",
    "# File Name: student_qualification.py\n",
    "# Description: This app accepts student names and GPAs and determines if the student qualifies for the Dean's List or the Honor Roll.\n",
    "# Initialize an empty list to store student records\n",
    "student_records = []\n",
    "# Main loop to input student information\n",
    "while True:\n",
    "    last_name = input(\"Enter student's last name (type 'ZZZ' to quit): \")\n",
    "    \n",
    "    if last_name == 'ZZZ':\n",
    "        break\n",
    "    \n",
    "    first_name = input(\"Enter student's first name: \")\n",
    "    gpa = float(input(\"Enter student's GPA: \"))\n",
    "    \n",
    "   qualification= check_qualification(gpa)\n",
    "    student_records.append((first_name, last_name, gpa, qualification))\n",
    "\n",
    "# Check qualification for each student\n",
    "print(\"\\nQualifications:\n",
    "for student in student_records:\n",
    "    first_name, last_name, gpa = student\n",
    "    \n",
    "    if gpa >= 3.5:\n",
    "        print(f\"{first_name} {last_name} has made the Dean's List.\")\n",
    "    elif gpa >= 3.25:\n",
    "        print(f\"{first_name} {last_name} has made the Honor Roll.\")\n",
    "    else:\n",
    "        print(f\"{first_name} {last_name} does not qualify for any honors.\")\n",
    "\n",
    "# End of the program\n",
    "print(\"Program completed.\")\n"
   ]
  },
  {
   "cell_type": "code",
   "execution_count": null,
   "id": "05e17acf",
   "metadata": {},
   "outputs": [],
   "source": []
  }
 ],
 "metadata": {
  "kernelspec": {
   "display_name": "Python 3 (ipykernel)",
   "language": "python",
   "name": "python3"
  },
  "language_info": {
   "codemirror_mode": {
    "name": "ipython",
    "version": 3
   },
   "file_extension": ".py",
   "mimetype": "text/x-python",
   "name": "python",
   "nbconvert_exporter": "python",
   "pygments_lexer": "ipython3",
   "version": "3.11.5"
  }
 },
 "nbformat": 4,
 "nbformat_minor": 5
}
