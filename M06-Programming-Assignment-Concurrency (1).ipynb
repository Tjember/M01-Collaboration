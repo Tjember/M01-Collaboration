{
 "cells": [
  {
   "cell_type": "code",
   "execution_count": 1,
   "id": "38efbbd1",
   "metadata": {},
   "outputs": [
    {
     "name": "stdout",
     "output_type": "stream",
     "text": [
      "2023-11-29\n",
      "2023-11-29 00:00:00\n"
     ]
    }
   ],
   "source": [
    "# Tadelo Jember Programming\n",
    "# M06 Programming Assignment -Concurrency in Python\n",
    "# things to do exercises\n",
    "# 13.1 13.1 Write the current date as a string to the text file today.txt\n",
    "\n",
    "from datetime import datetime\n",
    "current_date = datetime.now().strftime('%Y-%m-%d')\n",
    "with open('today.txt', 'w') as file:\n",
    "    file.write(current_date)\n",
    "    \n",
    "# 13.2 Read the text file today.txt into the string today_string\n",
    "with open('today.txt', 'r') as file:\n",
    "    today_string = file.read()\n",
    "print(today_string)\n",
    "\n",
    "# 13.3 Parse the date from today_string\n",
    "from datetime import datetime\n",
    "parsed_date = datetime.strptime(today_string, '%Y-%m-%d')\n",
    "print(parsed_date)  # Just to verify the parsed date"
   ]
  },
  {
   "cell_type": "code",
   "execution_count": null,
   "id": "be1eb509",
   "metadata": {},
   "outputs": [],
   "source": [
    "# exercise 15.1\n",
    "import multiprocessing\n",
    "import random\n",
    "import time\n",
    "from datetime import datetime\n",
    "\n",
    "def print_current_time(_):\n",
    "    # Generate a random sleep time between 0 and 1 second\n",
    "    sleep_time = random.random()\n",
    "    time.sleep(sleep_time)\n",
    "    \n",
    "    # Print the current time after the random sleep\n",
    "    current_time = datetime.now().strftime(\"%Y-%m-%d %H:%M:%S\")\n",
    "    print(f\"Current time: {current_time}\")\n",
    "\n",
    "if __name__ == '__main__':\n",
    "    # Create a Pool of processes and map the function\n",
    "    with multiprocessing.Pool(processes=3) as pool:\n",
    "        pool.map(print_current_time, range(3))\n"
   ]
  }
 ],
 "metadata": {
  "kernelspec": {
   "display_name": "Python 3 (ipykernel)",
   "language": "python",
   "name": "python3"
  },
  "language_info": {
   "codemirror_mode": {
    "name": "ipython",
    "version": 3
   },
   "file_extension": ".py",
   "mimetype": "text/x-python",
   "name": "python",
   "nbconvert_exporter": "python",
   "pygments_lexer": "ipython3",
   "version": "3.11.5"
  }
 },
 "nbformat": 4,
 "nbformat_minor": 5
}
