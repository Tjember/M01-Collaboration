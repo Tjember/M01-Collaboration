{
 "cells": [
  {
   "cell_type": "code",
   "execution_count": 1,
   "id": "38efbbd1",
   "metadata": {},
   "outputs": [
    {
     "name": "stdout",
     "output_type": "stream",
     "text": [
      "2023-11-29\n",
      "2023-11-29 00:00:00\n"
     ]
    }
   ],
   "source": [
    "# Tadelo Jember Programming\n",
    "# M06 Programming Assignment -Concurrency in Python\n",
    "# things to do exercises\n",
    "# 13.1 13.1 Write the current date as a string to the text file today.txt\n",
    "\n",
    "from datetime import datetime\n",
    "current_date = datetime.now().strftime('%Y-%m-%d')\n",
    "with open('today.txt', 'w') as file:\n",
    "    file.write(current_date)\n",
    "    \n",
    "# 13.2 Read the text file today.txt into the string today_string\n",
    "with open('today.txt', 'r') as file:\n",
    "    today_string = file.read()\n",
    "print(today_string)\n",
    "\n",
    "# 13.3 Parse the date from today_string\n",
    "from datetime import datetime\n",
    "parsed_date = datetime.strptime(today_string, '%Y-%m-%d')\n",
    "print(parsed_date)  # Just to verify the parsed date"
   ]
  },
  {
   "cell_type": "code",
   "execution_count": 1,
   "id": "be1eb509",
   "metadata": {},
   "outputs": [
    {
     "name": "stdout",
     "output_type": "stream",
     "text": [
      "Today's date and time is 2023-11-29 14:56:21.704874\n",
      "Today's date and time is 2023-11-29 14:56:22.048990\n",
      "Today's date and time is 2023-11-29 14:56:22.611227\n",
      "Completed\n"
     ]
    }
   ],
   "source": [
    "# exercise 15.1\n",
    "import multiprocessing\n",
    "from datetime import datetime\n",
    "import time\n",
    "import random\n",
    "\n",
    "\n",
    "def print_time():\n",
    "    now = datetime.now()\n",
    "    print(\"Today's date and time is {}\".format(now))\n",
    "    time.sleep(random.random())\n",
    "\n",
    "\n",
    "if __name__ == '__main__':\n",
    "    proc1 = multiprocessing.Process(target=print_time())\n",
    "    proc2 = multiprocessing.Process(target=print_time())\n",
    "    proc3 = multiprocessing.Process(target=print_time())\n",
    "    proc1.start()\n",
    "    proc2.start()\n",
    "    proc3.start()\n",
    "    proc1.join()\n",
    "    proc2.join()\n",
    "    proc3.join()\n",
    "\n",
    "    print('Completed')"
   ]
  }
 ],
 "metadata": {
  "kernelspec": {
   "display_name": "Python 3 (ipykernel)",
   "language": "python",
   "name": "python3"
  },
  "language_info": {
   "codemirror_mode": {
    "name": "ipython",
    "version": 3
   },
   "file_extension": ".py",
   "mimetype": "text/x-python",
   "name": "python",
   "nbconvert_exporter": "python",
   "pygments_lexer": "ipython3",
   "version": "3.11.5"
  }
 },
 "nbformat": 4,
 "nbformat_minor": 5
}
